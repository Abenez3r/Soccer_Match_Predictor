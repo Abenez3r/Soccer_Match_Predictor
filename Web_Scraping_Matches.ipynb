{
 "cells": [
  {
   "cell_type": "code",
   "execution_count": 1,
   "metadata": {},
   "outputs": [],
   "source": [
    "import requests\n",
    "from bs4 import BeautifulSoup\n",
    "import time"
   ]
  },
  {
   "cell_type": "code",
   "execution_count": null,
   "metadata": {},
   "outputs": [],
   "source": [
    "# Define the initial URL for Premier League standings\n",
    "standings_url = \"https://fbref.com/en/comps/9/Premier-League-Stats\"\n",
    "\n",
    "# Fetch the standings data from the URL\n",
    "data = requests.get(standings_url)\n",
    "print(data.status_code)  # Print the status code of the request (should be ~ 200 for success)"
   ]
  },
  {
   "cell_type": "code",
   "execution_count": 3,
   "metadata": {},
   "outputs": [],
   "source": [
    "# Parse the HTML content using BeautifulSoup\n",
    "soup = BeautifulSoup(data.text, 'html.parser')\n",
    "standings_table = soup.select('table.stats_table')[0] # Select the standings table\n",
    "\n",
    "# Extract all links from the standings table\n",
    "links = standings_table.find_all('a')\n",
    "links = [l.get(\"href\") for l in links]\n",
    "links = [l for l in links if '/squads/' in l]  # Filter links for team URLs"
   ]
  },
  {
   "cell_type": "code",
   "execution_count": null,
   "metadata": {},
   "outputs": [],
   "source": [
    "# Construct full team URLs\n",
    "team_urls = [f\"https://fbref.com{l}\" for l in links]\n",
    "\n",
    "# Get the data for the first team\n",
    "data = requests.get(team_urls[0])\n",
    "\n",
    "# Extract match data from the team's page\n",
    "matches = pd.read_html(data.text, match=\"Scores & Fixtures\")[0]\n",
    "\n",
    "# Parse the HTML content again to extract shooting statistics\n",
    "soup = BeautifulSoup(data.text, 'html.parser')\n",
    "links = soup.find_all('a')\n",
    "links = [l.get(\"href\") for l in links]\n",
    "links = [l for l in links if l and 'all_comps/shooting/' in l]\n",
    "\n",
    "# Get shooting data for the first team\n",
    "data = requests.get(f\"https://fbref.com{links[0]}\")\n",
    "shooting = pd.read_html(data.text, match=\"Shooting\")[0]\n",
    "\n",
    "# Display the first few rows of the shooting data\n",
    "shooting.head()"
   ]
  },
  {
   "cell_type": "code",
   "execution_count": null,
   "metadata": {},
   "outputs": [],
   "source": [
    "# Clean up the shooting DataFrame by dropping the first level of column headers\n",
    "shooting.columns = shooting.columns.droplevel()\n",
    "\n",
    "# Merge match and shooting data on 'Date'\n",
    "team_data = matches.merge(shooting[[\"Date\", \"Sh\", \"SoT\", \"Dist\", \"FK\", \"PK\", \"PKatt\"]], on=\"Date\")\n",
    "team_data.head()"
   ]
  },
  {
   "cell_type": "code",
   "execution_count": 16,
   "metadata": {},
   "outputs": [],
   "source": [
    "# List of years to iterate over (2022 to 2020)\n",
    "years = list(range(2022, 2020, -1))\n",
    "all_matches = []  # Initialize a list to store data for all matches"
   ]
  },
  {
   "cell_type": "code",
   "execution_count": null,
   "metadata": {},
   "outputs": [],
   "source": [
    "standings_url = \"https://fbref.com/en/comps/9/Premier-League-Stats\""
   ]
  },
  {
   "cell_type": "code",
   "execution_count": null,
   "metadata": {},
   "outputs": [],
   "source": [
    "# Loop through each year to scrape data\n",
    "for year in years:\n",
    "    # Request the standings data for the current year\n",
    "    data = requests.get(standings_url)\n",
    "    soup = BeautifulSoup(data.text, 'html.parser')\n",
    "    standings_table = soup.select('table.stats_table')[0]\n",
    "\n",
    "    # Extract team links from the standings table\n",
    "    links = [l.get(\"href\") for l in standings_table.find_all('a')]\n",
    "    links = [l for l in links if '/squads/' in l]\n",
    "    team_urls = [f\"https://fbref.com{l}\" for l in links]\n",
    "    \n",
    "    # Get the URL for the previous season's standings\n",
    "    previous_season = soup.select(\"a.prev\")[0].get(\"href\")\n",
    "    standings_url = f\"https://fbref.com{previous_season}\"\n",
    "    \n",
    "    # Loop through each team's URL to get data\n",
    "    for team_url in team_urls:\n",
    "        # Extract the team name from the URL\n",
    "        team_name = team_url.split(\"/\")[-1].replace(\"-Stats\", \"\").replace(\"-\", \" \")\n",
    "        data = requests.get(team_url)\n",
    "        \n",
    "        # Extract match data for the team\n",
    "        matches = pd.read_html(data.text, match=\"Scores & Fixtures\")[0]\n",
    "        soup = BeautifulSoup(data.text, 'html.parser')\n",
    "        links = [l.get(\"href\") for l in soup.find_all('a')]\n",
    "        links = [l for l in links if l and 'all_comps/shooting/' in l]\n",
    "\n",
    "        # Get shooting data for the team\n",
    "        data = requests.get(f\"https://fbref.com{links[0]}\")\n",
    "        shooting = pd.read_html(data.text, match=\"Shooting\")[0]\n",
    "        \n",
    "        # Clean up the shooting DataFrame\n",
    "        shooting.columns = shooting.columns.droplevel()\n",
    "        \n",
    "        try:\n",
    "            # Merge match and shooting data on 'Date'\n",
    "            team_data = matches.merge(shooting[[\"Date\", \"Sh\", \"SoT\", \"Dist\", \"FK\", \"PK\", \"PKatt\"]], on=\"Date\")\n",
    "        except ValueError:\n",
    "            continue  # Skip if there’s a ValueError during merging\n",
    "        \n",
    "        # Filter team data for the Premier League matches\n",
    "        team_data = team_data[team_data[\"Comp\"] == \"Premier League\"]\n",
    "        \n",
    "        # Add season and team name to the data\n",
    "        team_data[\"Season\"] = year\n",
    "        team_data[\"Team\"] = team_name\n",
    "        \n",
    "        # Append the team data to the list\n",
    "        all_matches.append(team_data)\n",
    "        \n",
    "        # Wait for 1-5 seconds to avoid hitting rate limits (print(data.status_code) will print 429 if you hit the limit)\n",
    "        time.sleep(5)\n"
   ]
  },
  {
   "cell_type": "code",
   "execution_count": null,
   "metadata": {},
   "outputs": [],
   "source": [
    "len(all_matches)"
   ]
  },
  {
   "cell_type": "code",
   "execution_count": null,
   "metadata": {},
   "outputs": [],
   "source": [
    "# Concatenate all matches into a single DataFrame\n",
    "match_df = pd.concat(all_matches)\n",
    "\n",
    "# Convert column names to lowercase for consistency\n",
    "match_df.columns = [c.lower() for c in match_df.columns]\n",
    "\n",
    "# Output the final DataFrame\n",
    "match_df"
   ]
  },
  {
   "cell_type": "code",
   "execution_count": null,
   "metadata": {},
   "outputs": [],
   "source": [
    "# Save the match data to a CSV file\n",
    "match_df.to_csv(\"matches.csv\", index=False)  # Save DataFrame to CSV without index"
   ]
  }
 ],
 "metadata": {
  "kernelspec": {
   "display_name": "myenv",
   "language": "python",
   "name": "python3"
  },
  "language_info": {
   "codemirror_mode": {
    "name": "ipython",
    "version": 3
   },
   "file_extension": ".py",
   "mimetype": "text/x-python",
   "name": "python",
   "nbconvert_exporter": "python",
   "pygments_lexer": "ipython3",
   "version": "3.9.19"
  }
 },
 "nbformat": 4,
 "nbformat_minor": 2
}
